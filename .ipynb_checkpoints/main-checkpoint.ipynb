{
 "cells": [
  {
   "cell_type": "code",
   "execution_count": 2,
   "id": "d09acee6",
   "metadata": {},
   "outputs": [],
   "source": [
    "import Pkg"
   ]
  },
  {
   "cell_type": "code",
   "execution_count": null,
   "id": "69c007ec",
   "metadata": {},
   "outputs": [],
   "source": [
    "Pkg.add(\"CSV\")"
   ]
  },
  {
   "cell_type": "code",
   "execution_count": null,
   "id": "3dbf8e33",
   "metadata": {},
   "outputs": [],
   "source": [
    "Pkg.add(\"DataFrames\")"
   ]
  },
  {
   "cell_type": "code",
   "execution_count": null,
   "id": "b14d999e",
   "metadata": {},
   "outputs": [],
   "source": [
    "Pkg.add(\"ScikitLearn\")"
   ]
  },
  {
   "cell_type": "code",
   "execution_count": null,
   "id": "4f3bf264",
   "metadata": {},
   "outputs": [],
   "source": [
    "Pkg.add(\"Clustering\")"
   ]
  },
  {
   "cell_type": "code",
   "execution_count": null,
   "id": "3dd4553f",
   "metadata": {},
   "outputs": [],
   "source": [
    "Pkg.add(\"Distances\")"
   ]
  },
  {
   "cell_type": "code",
   "execution_count": null,
   "id": "498b0060",
   "metadata": {},
   "outputs": [],
   "source": [
    "Pkg.add(\"Statistics\")"
   ]
  },
  {
   "cell_type": "code",
   "execution_count": 3,
   "id": "3c0b30e5",
   "metadata": {},
   "outputs": [],
   "source": [
    "using CSV, DataFrames, ScikitLearn, Clustering, Distances, Statistics"
   ]
  },
  {
   "cell_type": "code",
   "execution_count": 4,
   "id": "9010bf2a",
   "metadata": {},
   "outputs": [
    {
     "data": {
      "text/html": [
       "<div><div style = \"float: left;\"><span>8525×27 DataFrame</span></div><div style = \"float: right;\"><span style = \"font-style: italic;\">8500 rows omitted</span></div><div style = \"clear: both;\"></div></div><div class = \"data-frame\" style = \"overflow-x: scroll;\"><table class = \"data-frame\" style = \"margin-bottom: 6px;\"><thead><tr class = \"header\"><th class = \"rowNumber\" style = \"font-weight: bold; text-align: right;\">Row</th><th style = \"text-align: left;\">tumorsize</th><th style = \"text-align: left;\">co2</th><th style = \"text-align: left;\">pain</th><th style = \"text-align: left;\">wound</th><th style = \"text-align: left;\">mobility</th><th style = \"text-align: left;\">ntumors</th><th style = \"text-align: left;\">nmorphine</th><th style = \"text-align: left;\">remission</th><th style = \"text-align: left;\">lungcapacity</th><th style = \"text-align: left;\">Age</th><th style = \"text-align: left;\">Married</th><th style = \"text-align: left;\">FamilyHx</th><th style = \"text-align: left;\">SmokingHx</th><th style = \"text-align: left;\">Sex</th><th style = \"text-align: left;\">CancerStage</th><th style = \"text-align: left;\">LengthofStay</th><th style = \"text-align: left;\">WBC</th><th style = \"text-align: left;\">RBC</th><th style = \"text-align: left;\">BMI</th><th style = \"text-align: left;\">IL6</th><th style = \"text-align: left;\">CRP</th><th style = \"text-align: left;\">DID</th><th style = \"text-align: left;\">Experience</th><th style = \"text-align: left;\">School</th><th style = \"text-align: left;\">Lawsuits</th><th style = \"text-align: left;\">HID</th><th style = \"text-align: left;\">Medicaid</th></tr><tr class = \"subheader headerLastRow\"><th class = \"rowNumber\" style = \"font-weight: bold; text-align: right;\"></th><th title = \"Float64\" style = \"text-align: left;\">Float64</th><th title = \"Float64\" style = \"text-align: left;\">Float64</th><th title = \"Int64\" style = \"text-align: left;\">Int64</th><th title = \"Int64\" style = \"text-align: left;\">Int64</th><th title = \"Int64\" style = \"text-align: left;\">Int64</th><th title = \"Int64\" style = \"text-align: left;\">Int64</th><th title = \"Int64\" style = \"text-align: left;\">Int64</th><th title = \"Int64\" style = \"text-align: left;\">Int64</th><th title = \"Float64\" style = \"text-align: left;\">Float64</th><th title = \"Float64\" style = \"text-align: left;\">Float64</th><th title = \"Int64\" style = \"text-align: left;\">Int64</th><th title = \"String3\" style = \"text-align: left;\">String3</th><th title = \"String7\" style = \"text-align: left;\">String7</th><th title = \"String7\" style = \"text-align: left;\">String7</th><th title = \"String3\" style = \"text-align: left;\">String3</th><th title = \"Int64\" style = \"text-align: left;\">Int64</th><th title = \"Float64\" style = \"text-align: left;\">Float64</th><th title = \"Float64\" style = \"text-align: left;\">Float64</th><th title = \"Float64\" style = \"text-align: left;\">Float64</th><th title = \"Float64\" style = \"text-align: left;\">Float64</th><th title = \"Float64\" style = \"text-align: left;\">Float64</th><th title = \"Int64\" style = \"text-align: left;\">Int64</th><th title = \"Int64\" style = \"text-align: left;\">Int64</th><th title = \"String7\" style = \"text-align: left;\">String7</th><th title = \"Int64\" style = \"text-align: left;\">Int64</th><th title = \"Int64\" style = \"text-align: left;\">Int64</th><th title = \"Float64\" style = \"text-align: left;\">Float64</th></tr></thead><tbody><tr><td class = \"rowNumber\" style = \"font-weight: bold; text-align: right;\">1</td><td style = \"text-align: right;\">67.9812</td><td style = \"text-align: right;\">1.53433</td><td style = \"text-align: right;\">4</td><td style = \"text-align: right;\">4</td><td style = \"text-align: right;\">2</td><td style = \"text-align: right;\">0</td><td style = \"text-align: right;\">0</td><td style = \"text-align: right;\">0</td><td style = \"text-align: right;\">0.801088</td><td style = \"text-align: right;\">64.9682</td><td style = \"text-align: right;\">0</td><td style = \"text-align: left;\">no</td><td style = \"text-align: left;\">former</td><td style = \"text-align: left;\">male</td><td style = \"text-align: left;\">II</td><td style = \"text-align: right;\">6</td><td style = \"text-align: right;\">6087.65</td><td style = \"text-align: right;\">4.86842</td><td style = \"text-align: right;\">24.1442</td><td style = \"text-align: right;\">3.69898</td><td style = \"text-align: right;\">8.08642</td><td style = \"text-align: right;\">1</td><td style = \"text-align: right;\">25</td><td style = \"text-align: left;\">average</td><td style = \"text-align: right;\">3</td><td style = \"text-align: right;\">1</td><td style = \"text-align: right;\">0.605867</td></tr><tr><td class = \"rowNumber\" style = \"font-weight: bold; text-align: right;\">2</td><td style = \"text-align: right;\">64.7025</td><td style = \"text-align: right;\">1.67613</td><td style = \"text-align: right;\">2</td><td style = \"text-align: right;\">3</td><td style = \"text-align: right;\">2</td><td style = \"text-align: right;\">0</td><td style = \"text-align: right;\">0</td><td style = \"text-align: right;\">0</td><td style = \"text-align: right;\">0.326444</td><td style = \"text-align: right;\">53.9171</td><td style = \"text-align: right;\">0</td><td style = \"text-align: left;\">no</td><td style = \"text-align: left;\">former</td><td style = \"text-align: left;\">female</td><td style = \"text-align: left;\">II</td><td style = \"text-align: right;\">6</td><td style = \"text-align: right;\">6700.31</td><td style = \"text-align: right;\">4.67905</td><td style = \"text-align: right;\">29.4052</td><td style = \"text-align: right;\">2.62748</td><td style = \"text-align: right;\">0.803488</td><td style = \"text-align: right;\">1</td><td style = \"text-align: right;\">25</td><td style = \"text-align: left;\">average</td><td style = \"text-align: right;\">3</td><td style = \"text-align: right;\">1</td><td style = \"text-align: right;\">0.605867</td></tr><tr><td class = \"rowNumber\" style = \"font-weight: bold; text-align: right;\">3</td><td style = \"text-align: right;\">51.567</td><td style = \"text-align: right;\">1.53345</td><td style = \"text-align: right;\">6</td><td style = \"text-align: right;\">3</td><td style = \"text-align: right;\">2</td><td style = \"text-align: right;\">0</td><td style = \"text-align: right;\">0</td><td style = \"text-align: right;\">0</td><td style = \"text-align: right;\">0.565031</td><td style = \"text-align: right;\">53.3473</td><td style = \"text-align: right;\">1</td><td style = \"text-align: left;\">no</td><td style = \"text-align: left;\">never</td><td style = \"text-align: left;\">female</td><td style = \"text-align: left;\">II</td><td style = \"text-align: right;\">5</td><td style = \"text-align: right;\">6042.81</td><td style = \"text-align: right;\">5.00586</td><td style = \"text-align: right;\">29.4826</td><td style = \"text-align: right;\">13.8962</td><td style = \"text-align: right;\">4.03416</td><td style = \"text-align: right;\">1</td><td style = \"text-align: right;\">25</td><td style = \"text-align: left;\">average</td><td style = \"text-align: right;\">3</td><td style = \"text-align: right;\">1</td><td style = \"text-align: right;\">0.605867</td></tr><tr><td class = \"rowNumber\" style = \"font-weight: bold; text-align: right;\">4</td><td style = \"text-align: right;\">86.438</td><td style = \"text-align: right;\">1.4533</td><td style = \"text-align: right;\">3</td><td style = \"text-align: right;\">3</td><td style = \"text-align: right;\">2</td><td style = \"text-align: right;\">0</td><td style = \"text-align: right;\">0</td><td style = \"text-align: right;\">0</td><td style = \"text-align: right;\">0.848411</td><td style = \"text-align: right;\">41.368</td><td style = \"text-align: right;\">0</td><td style = \"text-align: left;\">no</td><td style = \"text-align: left;\">former</td><td style = \"text-align: left;\">male</td><td style = \"text-align: left;\">I</td><td style = \"text-align: right;\">5</td><td style = \"text-align: right;\">7162.7</td><td style = \"text-align: right;\">5.26506</td><td style = \"text-align: right;\">21.5573</td><td style = \"text-align: right;\">3.00803</td><td style = \"text-align: right;\">2.12586</td><td style = \"text-align: right;\">1</td><td style = \"text-align: right;\">25</td><td style = \"text-align: left;\">average</td><td style = \"text-align: right;\">3</td><td style = \"text-align: right;\">1</td><td style = \"text-align: right;\">0.605867</td></tr><tr><td class = \"rowNumber\" style = \"font-weight: bold; text-align: right;\">5</td><td style = \"text-align: right;\">53.4002</td><td style = \"text-align: right;\">1.56635</td><td style = \"text-align: right;\">3</td><td style = \"text-align: right;\">4</td><td style = \"text-align: right;\">2</td><td style = \"text-align: right;\">0</td><td style = \"text-align: right;\">0</td><td style = \"text-align: right;\">0</td><td style = \"text-align: right;\">0.886491</td><td style = \"text-align: right;\">46.8004</td><td style = \"text-align: right;\">0</td><td style = \"text-align: left;\">no</td><td style = \"text-align: left;\">never</td><td style = \"text-align: left;\">male</td><td style = \"text-align: left;\">II</td><td style = \"text-align: right;\">6</td><td style = \"text-align: right;\">6443.44</td><td style = \"text-align: right;\">4.98426</td><td style = \"text-align: right;\">29.8152</td><td style = \"text-align: right;\">3.8907</td><td style = \"text-align: right;\">1.34932</td><td style = \"text-align: right;\">1</td><td style = \"text-align: right;\">25</td><td style = \"text-align: left;\">average</td><td style = \"text-align: right;\">3</td><td style = \"text-align: right;\">1</td><td style = \"text-align: right;\">0.605867</td></tr><tr><td class = \"rowNumber\" style = \"font-weight: bold; text-align: right;\">6</td><td style = \"text-align: right;\">51.6573</td><td style = \"text-align: right;\">1.41787</td><td style = \"text-align: right;\">4</td><td style = \"text-align: right;\">5</td><td style = \"text-align: right;\">2</td><td style = \"text-align: right;\">0</td><td style = \"text-align: right;\">0</td><td style = \"text-align: right;\">0</td><td style = \"text-align: right;\">0.701031</td><td style = \"text-align: right;\">51.9294</td><td style = \"text-align: right;\">1</td><td style = \"text-align: left;\">no</td><td style = \"text-align: left;\">never</td><td style = \"text-align: left;\">male</td><td style = \"text-align: left;\">I</td><td style = \"text-align: right;\">5</td><td style = \"text-align: right;\">6800.55</td><td style = \"text-align: right;\">5.19971</td><td style = \"text-align: right;\">27.1025</td><td style = \"text-align: right;\">1.41822</td><td style = \"text-align: right;\">2.19469</td><td style = \"text-align: right;\">1</td><td style = \"text-align: right;\">25</td><td style = \"text-align: left;\">average</td><td style = \"text-align: right;\">3</td><td style = \"text-align: right;\">1</td><td style = \"text-align: right;\">0.605867</td></tr><tr><td class = \"rowNumber\" style = \"font-weight: bold; text-align: right;\">7</td><td style = \"text-align: right;\">78.9171</td><td style = \"text-align: right;\">1.70663</td><td style = \"text-align: right;\">3</td><td style = \"text-align: right;\">4</td><td style = \"text-align: right;\">2</td><td style = \"text-align: right;\">0</td><td style = \"text-align: right;\">0</td><td style = \"text-align: right;\">0</td><td style = \"text-align: right;\">0.890854</td><td style = \"text-align: right;\">53.8293</td><td style = \"text-align: right;\">1</td><td style = \"text-align: left;\">no</td><td style = \"text-align: left;\">current</td><td style = \"text-align: left;\">female</td><td style = \"text-align: left;\">II</td><td style = \"text-align: right;\">4</td><td style = \"text-align: right;\">6236.45</td><td style = \"text-align: right;\">4.8699</td><td style = \"text-align: right;\">21.1191</td><td style = \"text-align: right;\">2.29322</td><td style = \"text-align: right;\">8.60796</td><td style = \"text-align: right;\">1</td><td style = \"text-align: right;\">25</td><td style = \"text-align: left;\">average</td><td style = \"text-align: right;\">3</td><td style = \"text-align: right;\">1</td><td style = \"text-align: right;\">0.605867</td></tr><tr><td class = \"rowNumber\" style = \"font-weight: bold; text-align: right;\">8</td><td style = \"text-align: right;\">69.8332</td><td style = \"text-align: right;\">1.52873</td><td style = \"text-align: right;\">3</td><td style = \"text-align: right;\">3</td><td style = \"text-align: right;\">3</td><td style = \"text-align: right;\">0</td><td style = \"text-align: right;\">0</td><td style = \"text-align: right;\">0</td><td style = \"text-align: right;\">0.66088</td><td style = \"text-align: right;\">46.5622</td><td style = \"text-align: right;\">0</td><td style = \"text-align: left;\">no</td><td style = \"text-align: left;\">former</td><td style = \"text-align: left;\">male</td><td style = \"text-align: left;\">II</td><td style = \"text-align: right;\">5</td><td style = \"text-align: right;\">3997.7</td><td style = \"text-align: right;\">4.64792</td><td style = \"text-align: right;\">42.4754</td><td style = \"text-align: right;\">4.57562</td><td style = \"text-align: right;\">0.838388</td><td style = \"text-align: right;\">1</td><td style = \"text-align: right;\">25</td><td style = \"text-align: left;\">average</td><td style = \"text-align: right;\">3</td><td style = \"text-align: right;\">1</td><td style = \"text-align: right;\">0.605867</td></tr><tr><td class = \"rowNumber\" style = \"font-weight: bold; text-align: right;\">9</td><td style = \"text-align: right;\">62.8526</td><td style = \"text-align: right;\">1.54296</td><td style = \"text-align: right;\">4</td><td style = \"text-align: right;\">4</td><td style = \"text-align: right;\">3</td><td style = \"text-align: right;\">2</td><td style = \"text-align: right;\">0</td><td style = \"text-align: right;\">0</td><td style = \"text-align: right;\">0.908871</td><td style = \"text-align: right;\">54.3894</td><td style = \"text-align: right;\">1</td><td style = \"text-align: left;\">yes</td><td style = \"text-align: left;\">former</td><td style = \"text-align: left;\">male</td><td style = \"text-align: left;\">II</td><td style = \"text-align: right;\">6</td><td style = \"text-align: right;\">6652.8</td><td style = \"text-align: right;\">4.82706</td><td style = \"text-align: right;\">18.6851</td><td style = \"text-align: right;\">8.0302</td><td style = \"text-align: right;\">7.22613</td><td style = \"text-align: right;\">1</td><td style = \"text-align: right;\">25</td><td style = \"text-align: left;\">average</td><td style = \"text-align: right;\">3</td><td style = \"text-align: right;\">1</td><td style = \"text-align: right;\">0.605867</td></tr><tr><td class = \"rowNumber\" style = \"font-weight: bold; text-align: right;\">10</td><td style = \"text-align: right;\">71.7779</td><td style = \"text-align: right;\">1.59306</td><td style = \"text-align: right;\">5</td><td style = \"text-align: right;\">4</td><td style = \"text-align: right;\">3</td><td style = \"text-align: right;\">0</td><td style = \"text-align: right;\">0</td><td style = \"text-align: right;\">0</td><td style = \"text-align: right;\">0.959327</td><td style = \"text-align: right;\">50.5446</td><td style = \"text-align: right;\">0</td><td style = \"text-align: left;\">no</td><td style = \"text-align: left;\">never</td><td style = \"text-align: left;\">male</td><td style = \"text-align: left;\">II</td><td style = \"text-align: right;\">7</td><td style = \"text-align: right;\">5778.09</td><td style = \"text-align: right;\">4.85051</td><td style = \"text-align: right;\">39.4424</td><td style = \"text-align: right;\">5.85566</td><td style = \"text-align: right;\">4.08878</td><td style = \"text-align: right;\">1</td><td style = \"text-align: right;\">25</td><td style = \"text-align: left;\">average</td><td style = \"text-align: right;\">3</td><td style = \"text-align: right;\">1</td><td style = \"text-align: right;\">0.605867</td></tr><tr><td class = \"rowNumber\" style = \"font-weight: bold; text-align: right;\">11</td><td style = \"text-align: right;\">66.0256</td><td style = \"text-align: right;\">1.60936</td><td style = \"text-align: right;\">4</td><td style = \"text-align: right;\">3</td><td style = \"text-align: right;\">3</td><td style = \"text-align: right;\">0</td><td style = \"text-align: right;\">0</td><td style = \"text-align: right;\">0</td><td style = \"text-align: right;\">0.768215</td><td style = \"text-align: right;\">42.9193</td><td style = \"text-align: right;\">0</td><td style = \"text-align: left;\">no</td><td style = \"text-align: left;\">current</td><td style = \"text-align: left;\">female</td><td style = \"text-align: left;\">I</td><td style = \"text-align: right;\">5</td><td style = \"text-align: right;\">6182.05</td><td style = \"text-align: right;\">5.19967</td><td style = \"text-align: right;\">29.2478</td><td style = \"text-align: right;\">4.89269</td><td style = \"text-align: right;\">2.16514</td><td style = \"text-align: right;\">1</td><td style = \"text-align: right;\">25</td><td style = \"text-align: left;\">average</td><td style = \"text-align: right;\">3</td><td style = \"text-align: right;\">1</td><td style = \"text-align: right;\">0.605867</td></tr><tr><td class = \"rowNumber\" style = \"font-weight: bold; text-align: right;\">12</td><td style = \"text-align: right;\">57.5208</td><td style = \"text-align: right;\">1.6344</td><td style = \"text-align: right;\">4</td><td style = \"text-align: right;\">3</td><td style = \"text-align: right;\">3</td><td style = \"text-align: right;\">0</td><td style = \"text-align: right;\">0</td><td style = \"text-align: right;\">0</td><td style = \"text-align: right;\">0.488333</td><td style = \"text-align: right;\">46.2975</td><td style = \"text-align: right;\">0</td><td style = \"text-align: left;\">no</td><td style = \"text-align: left;\">former</td><td style = \"text-align: left;\">female</td><td style = \"text-align: left;\">II</td><td style = \"text-align: right;\">6</td><td style = \"text-align: right;\">5007.58</td><td style = \"text-align: right;\">5.09869</td><td style = \"text-align: right;\">35.1963</td><td style = \"text-align: right;\">2.44687</td><td style = \"text-align: right;\">4.46147</td><td style = \"text-align: right;\">1</td><td style = \"text-align: right;\">25</td><td style = \"text-align: left;\">average</td><td style = \"text-align: right;\">3</td><td style = \"text-align: right;\">1</td><td style = \"text-align: right;\">0.605867</td></tr><tr><td class = \"rowNumber\" style = \"font-weight: bold; text-align: right;\">13</td><td style = \"text-align: right;\">48.8394</td><td style = \"text-align: right;\">1.53568</td><td style = \"text-align: right;\">5</td><td style = \"text-align: right;\">3</td><td style = \"text-align: right;\">3</td><td style = \"text-align: right;\">0</td><td style = \"text-align: right;\">0</td><td style = \"text-align: right;\">0</td><td style = \"text-align: right;\">0.873921</td><td style = \"text-align: right;\">53.6765</td><td style = \"text-align: right;\">1</td><td style = \"text-align: left;\">no</td><td style = \"text-align: left;\">never</td><td style = \"text-align: left;\">female</td><td style = \"text-align: left;\">II</td><td style = \"text-align: right;\">6</td><td style = \"text-align: right;\">6456.86</td><td style = \"text-align: right;\">5.16413</td><td style = \"text-align: right;\">33.3749</td><td style = \"text-align: right;\">2.14036</td><td style = \"text-align: right;\">7.03995</td><td style = \"text-align: right;\">1</td><td style = \"text-align: right;\">25</td><td style = \"text-align: left;\">average</td><td style = \"text-align: right;\">3</td><td style = \"text-align: right;\">1</td><td style = \"text-align: right;\">0.605867</td></tr><tr><td style = \"text-align: right;\">&vellip;</td><td style = \"text-align: right;\">&vellip;</td><td style = \"text-align: right;\">&vellip;</td><td style = \"text-align: right;\">&vellip;</td><td style = \"text-align: right;\">&vellip;</td><td style = \"text-align: right;\">&vellip;</td><td style = \"text-align: right;\">&vellip;</td><td style = \"text-align: right;\">&vellip;</td><td style = \"text-align: right;\">&vellip;</td><td style = \"text-align: right;\">&vellip;</td><td style = \"text-align: right;\">&vellip;</td><td style = \"text-align: right;\">&vellip;</td><td style = \"text-align: right;\">&vellip;</td><td style = \"text-align: right;\">&vellip;</td><td style = \"text-align: right;\">&vellip;</td><td style = \"text-align: right;\">&vellip;</td><td style = \"text-align: right;\">&vellip;</td><td style = \"text-align: right;\">&vellip;</td><td style = \"text-align: right;\">&vellip;</td><td style = \"text-align: right;\">&vellip;</td><td style = \"text-align: right;\">&vellip;</td><td style = \"text-align: right;\">&vellip;</td><td style = \"text-align: right;\">&vellip;</td><td style = \"text-align: right;\">&vellip;</td><td style = \"text-align: right;\">&vellip;</td><td style = \"text-align: right;\">&vellip;</td><td style = \"text-align: right;\">&vellip;</td><td style = \"text-align: right;\">&vellip;</td></tr><tr><td class = \"rowNumber\" style = \"font-weight: bold; text-align: right;\">8514</td><td style = \"text-align: right;\">76.764</td><td style = \"text-align: right;\">1.51499</td><td style = \"text-align: right;\">5</td><td style = \"text-align: right;\">5</td><td style = \"text-align: right;\">4</td><td style = \"text-align: right;\">2</td><td style = \"text-align: right;\">4</td><td style = \"text-align: right;\">1</td><td style = \"text-align: right;\">0.871949</td><td style = \"text-align: right;\">60.3939</td><td style = \"text-align: right;\">0</td><td style = \"text-align: left;\">no</td><td style = \"text-align: left;\">never</td><td style = \"text-align: left;\">male</td><td style = \"text-align: left;\">III</td><td style = \"text-align: right;\">8</td><td style = \"text-align: right;\">5825.63</td><td style = \"text-align: right;\">4.6729</td><td style = \"text-align: right;\">27.7196</td><td style = \"text-align: right;\">4.94213</td><td style = \"text-align: right;\">4.3424</td><td style = \"text-align: right;\">407</td><td style = \"text-align: right;\">24</td><td style = \"text-align: left;\">average</td><td style = \"text-align: right;\">4</td><td style = \"text-align: right;\">35</td><td style = \"text-align: right;\">0.342869</td></tr><tr><td class = \"rowNumber\" style = \"font-weight: bold; text-align: right;\">8515</td><td style = \"text-align: right;\">70.9147</td><td style = \"text-align: right;\">1.46798</td><td style = \"text-align: right;\">6</td><td style = \"text-align: right;\">5</td><td style = \"text-align: right;\">3</td><td style = \"text-align: right;\">0</td><td style = \"text-align: right;\">0</td><td style = \"text-align: right;\">1</td><td style = \"text-align: right;\">0.674624</td><td style = \"text-align: right;\">44.8629</td><td style = \"text-align: right;\">0</td><td style = \"text-align: left;\">no</td><td style = \"text-align: left;\">former</td><td style = \"text-align: left;\">male</td><td style = \"text-align: left;\">I</td><td style = \"text-align: right;\">5</td><td style = \"text-align: right;\">4300.47</td><td style = \"text-align: right;\">4.93536</td><td style = \"text-align: right;\">24.4861</td><td style = \"text-align: right;\">1.13527</td><td style = \"text-align: right;\">11.9601</td><td style = \"text-align: right;\">407</td><td style = \"text-align: right;\">24</td><td style = \"text-align: left;\">average</td><td style = \"text-align: right;\">4</td><td style = \"text-align: right;\">35</td><td style = \"text-align: right;\">0.342869</td></tr><tr><td class = \"rowNumber\" style = \"font-weight: bold; text-align: right;\">8516</td><td style = \"text-align: right;\">72.1299</td><td style = \"text-align: right;\">1.54957</td><td style = \"text-align: right;\">6</td><td style = \"text-align: right;\">6</td><td style = \"text-align: right;\">3</td><td style = \"text-align: right;\">0</td><td style = \"text-align: right;\">1</td><td style = \"text-align: right;\">1</td><td style = \"text-align: right;\">0.81772</td><td style = \"text-align: right;\">48.6778</td><td style = \"text-align: right;\">1</td><td style = \"text-align: left;\">no</td><td style = \"text-align: left;\">never</td><td style = \"text-align: left;\">male</td><td style = \"text-align: left;\">II</td><td style = \"text-align: right;\">4</td><td style = \"text-align: right;\">5970.95</td><td style = \"text-align: right;\">5.17228</td><td style = \"text-align: right;\">26.0899</td><td style = \"text-align: right;\">3.96639</td><td style = \"text-align: right;\">2.87995</td><td style = \"text-align: right;\">407</td><td style = \"text-align: right;\">24</td><td style = \"text-align: left;\">average</td><td style = \"text-align: right;\">4</td><td style = \"text-align: right;\">35</td><td style = \"text-align: right;\">0.342869</td></tr><tr><td class = \"rowNumber\" style = \"font-weight: bold; text-align: right;\">8517</td><td style = \"text-align: right;\">80.6805</td><td style = \"text-align: right;\">1.76155</td><td style = \"text-align: right;\">5</td><td style = \"text-align: right;\">6</td><td style = \"text-align: right;\">3</td><td style = \"text-align: right;\">0</td><td style = \"text-align: right;\">1</td><td style = \"text-align: right;\">1</td><td style = \"text-align: right;\">0.665874</td><td style = \"text-align: right;\">48.119</td><td style = \"text-align: right;\">1</td><td style = \"text-align: left;\">no</td><td style = \"text-align: left;\">current</td><td style = \"text-align: left;\">female</td><td style = \"text-align: left;\">I</td><td style = \"text-align: right;\">5</td><td style = \"text-align: right;\">6144.3</td><td style = \"text-align: right;\">4.80481</td><td style = \"text-align: right;\">41.2517</td><td style = \"text-align: right;\">2.89367</td><td style = \"text-align: right;\">3.19896</td><td style = \"text-align: right;\">407</td><td style = \"text-align: right;\">24</td><td style = \"text-align: left;\">average</td><td style = \"text-align: right;\">4</td><td style = \"text-align: right;\">35</td><td style = \"text-align: right;\">0.342869</td></tr><tr><td class = \"rowNumber\" style = \"font-weight: bold; text-align: right;\">8518</td><td style = \"text-align: right;\">74.1363</td><td style = \"text-align: right;\">1.59926</td><td style = \"text-align: right;\">5</td><td style = \"text-align: right;\">6</td><td style = \"text-align: right;\">3</td><td style = \"text-align: right;\">7</td><td style = \"text-align: right;\">5</td><td style = \"text-align: right;\">0</td><td style = \"text-align: right;\">0.859104</td><td style = \"text-align: right;\">64.1803</td><td style = \"text-align: right;\">1</td><td style = \"text-align: left;\">no</td><td style = \"text-align: left;\">never</td><td style = \"text-align: left;\">female</td><td style = \"text-align: left;\">IV</td><td style = \"text-align: right;\">5</td><td style = \"text-align: right;\">6953.91</td><td style = \"text-align: right;\">5.09539</td><td style = \"text-align: right;\">36.4225</td><td style = \"text-align: right;\">7.19954</td><td style = \"text-align: right;\">2.83987</td><td style = \"text-align: right;\">407</td><td style = \"text-align: right;\">24</td><td style = \"text-align: left;\">average</td><td style = \"text-align: right;\">4</td><td style = \"text-align: right;\">35</td><td style = \"text-align: right;\">0.342869</td></tr><tr><td class = \"rowNumber\" style = \"font-weight: bold; text-align: right;\">8519</td><td style = \"text-align: right;\">70.073</td><td style = \"text-align: right;\">1.47649</td><td style = \"text-align: right;\">6</td><td style = \"text-align: right;\">5</td><td style = \"text-align: right;\">3</td><td style = \"text-align: right;\">4</td><td style = \"text-align: right;\">2</td><td style = \"text-align: right;\">0</td><td style = \"text-align: right;\">0.958656</td><td style = \"text-align: right;\">54.6413</td><td style = \"text-align: right;\">0</td><td style = \"text-align: left;\">no</td><td style = \"text-align: left;\">former</td><td style = \"text-align: left;\">female</td><td style = \"text-align: left;\">IV</td><td style = \"text-align: right;\">5</td><td style = \"text-align: right;\">4348.73</td><td style = \"text-align: right;\">4.66121</td><td style = \"text-align: right;\">28.06</td><td style = \"text-align: right;\">9.09707</td><td style = \"text-align: right;\">0.57011</td><td style = \"text-align: right;\">407</td><td style = \"text-align: right;\">24</td><td style = \"text-align: left;\">average</td><td style = \"text-align: right;\">4</td><td style = \"text-align: right;\">35</td><td style = \"text-align: right;\">0.342869</td></tr><tr><td class = \"rowNumber\" style = \"font-weight: bold; text-align: right;\">8520</td><td style = \"text-align: right;\">82.6019</td><td style = \"text-align: right;\">1.77649</td><td style = \"text-align: right;\">7</td><td style = \"text-align: right;\">6</td><td style = \"text-align: right;\">1</td><td style = \"text-align: right;\">1</td><td style = \"text-align: right;\">2</td><td style = \"text-align: right;\">1</td><td style = \"text-align: right;\">0.932638</td><td style = \"text-align: right;\">44.9408</td><td style = \"text-align: right;\">1</td><td style = \"text-align: left;\">yes</td><td style = \"text-align: left;\">current</td><td style = \"text-align: left;\">male</td><td style = \"text-align: left;\">I</td><td style = \"text-align: right;\">4</td><td style = \"text-align: right;\">6952.75</td><td style = \"text-align: right;\">4.82134</td><td style = \"text-align: right;\">26.4427</td><td style = \"text-align: right;\">3.57383</td><td style = \"text-align: right;\">9.55253</td><td style = \"text-align: right;\">407</td><td style = \"text-align: right;\">24</td><td style = \"text-align: left;\">average</td><td style = \"text-align: right;\">4</td><td style = \"text-align: right;\">35</td><td style = \"text-align: right;\">0.342869</td></tr><tr><td class = \"rowNumber\" style = \"font-weight: bold; text-align: right;\">8521</td><td style = \"text-align: right;\">71.2625</td><td style = \"text-align: right;\">1.44567</td><td style = \"text-align: right;\">4</td><td style = \"text-align: right;\">7</td><td style = \"text-align: right;\">4</td><td style = \"text-align: right;\">4</td><td style = \"text-align: right;\">0</td><td style = \"text-align: right;\">1</td><td style = \"text-align: right;\">0.839827</td><td style = \"text-align: right;\">64.6356</td><td style = \"text-align: right;\">1</td><td style = \"text-align: left;\">no</td><td style = \"text-align: left;\">never</td><td style = \"text-align: left;\">male</td><td style = \"text-align: left;\">IV</td><td style = \"text-align: right;\">7</td><td style = \"text-align: right;\">5747.44</td><td style = \"text-align: right;\">5.02613</td><td style = \"text-align: right;\">29.1006</td><td style = \"text-align: right;\">8.0511</td><td style = \"text-align: right;\">2.15196</td><td style = \"text-align: right;\">407</td><td style = \"text-align: right;\">24</td><td style = \"text-align: left;\">average</td><td style = \"text-align: right;\">4</td><td style = \"text-align: right;\">35</td><td style = \"text-align: right;\">0.342869</td></tr><tr><td class = \"rowNumber\" style = \"font-weight: bold; text-align: right;\">8522</td><td style = \"text-align: right;\">79.9304</td><td style = \"text-align: right;\">1.84224</td><td style = \"text-align: right;\">4</td><td style = \"text-align: right;\">6</td><td style = \"text-align: right;\">2</td><td style = \"text-align: right;\">2</td><td style = \"text-align: right;\">5</td><td style = \"text-align: right;\">1</td><td style = \"text-align: right;\">0.659009</td><td style = \"text-align: right;\">45.0693</td><td style = \"text-align: right;\">1</td><td style = \"text-align: left;\">no</td><td style = \"text-align: left;\">current</td><td style = \"text-align: left;\">female</td><td style = \"text-align: left;\">I</td><td style = \"text-align: right;\">3</td><td style = \"text-align: right;\">4720.5</td><td style = \"text-align: right;\">5.09406</td><td style = \"text-align: right;\">20.5618</td><td style = \"text-align: right;\">0.394488</td><td style = \"text-align: right;\">12.7636</td><td style = \"text-align: right;\">407</td><td style = \"text-align: right;\">24</td><td style = \"text-align: left;\">average</td><td style = \"text-align: right;\">4</td><td style = \"text-align: right;\">35</td><td style = \"text-align: right;\">0.342869</td></tr><tr><td class = \"rowNumber\" style = \"font-weight: bold; text-align: right;\">8523</td><td style = \"text-align: right;\">67.098</td><td style = \"text-align: right;\">1.51245</td><td style = \"text-align: right;\">5</td><td style = \"text-align: right;\">6</td><td style = \"text-align: right;\">4</td><td style = \"text-align: right;\">0</td><td style = \"text-align: right;\">4</td><td style = \"text-align: right;\">1</td><td style = \"text-align: right;\">0.797167</td><td style = \"text-align: right;\">50.3167</td><td style = \"text-align: right;\">0</td><td style = \"text-align: left;\">no</td><td style = \"text-align: left;\">former</td><td style = \"text-align: left;\">female</td><td style = \"text-align: left;\">II</td><td style = \"text-align: right;\">5</td><td style = \"text-align: right;\">6327.59</td><td style = \"text-align: right;\">5.19512</td><td style = \"text-align: right;\">32.3221</td><td style = \"text-align: right;\">0.451302</td><td style = \"text-align: right;\">7.38761</td><td style = \"text-align: right;\">407</td><td style = \"text-align: right;\">24</td><td style = \"text-align: left;\">average</td><td style = \"text-align: right;\">4</td><td style = \"text-align: right;\">35</td><td style = \"text-align: right;\">0.342869</td></tr><tr><td class = \"rowNumber\" style = \"font-weight: bold; text-align: right;\">8524</td><td style = \"text-align: right;\">66.3834</td><td style = \"text-align: right;\">1.61859</td><td style = \"text-align: right;\">7</td><td style = \"text-align: right;\">5</td><td style = \"text-align: right;\">3</td><td style = \"text-align: right;\">3</td><td style = \"text-align: right;\">2</td><td style = \"text-align: right;\">1</td><td style = \"text-align: right;\">0.969633</td><td style = \"text-align: right;\">57.1199</td><td style = \"text-align: right;\">0</td><td style = \"text-align: left;\">no</td><td style = \"text-align: left;\">never</td><td style = \"text-align: left;\">female</td><td style = \"text-align: left;\">IV</td><td style = \"text-align: right;\">8</td><td style = \"text-align: right;\">3939.91</td><td style = \"text-align: right;\">4.72485</td><td style = \"text-align: right;\">24.3799</td><td style = \"text-align: right;\">4.35991</td><td style = \"text-align: right;\">3.07429</td><td style = \"text-align: right;\">407</td><td style = \"text-align: right;\">24</td><td style = \"text-align: left;\">average</td><td style = \"text-align: right;\">4</td><td style = \"text-align: right;\">35</td><td style = \"text-align: right;\">0.342869</td></tr><tr><td class = \"rowNumber\" style = \"font-weight: bold; text-align: right;\">8525</td><td style = \"text-align: right;\">65.9232</td><td style = \"text-align: right;\">1.58751</td><td style = \"text-align: right;\">4</td><td style = \"text-align: right;\">5</td><td style = \"text-align: right;\">3</td><td style = \"text-align: right;\">1</td><td style = \"text-align: right;\">2</td><td style = \"text-align: right;\">1</td><td style = \"text-align: right;\">0.911669</td><td style = \"text-align: right;\">56.0659</td><td style = \"text-align: right;\">0</td><td style = \"text-align: left;\">no</td><td style = \"text-align: left;\">never</td><td style = \"text-align: left;\">male</td><td style = \"text-align: left;\">II</td><td style = \"text-align: right;\">6</td><td style = \"text-align: right;\">6430.03</td><td style = \"text-align: right;\">4.73406</td><td style = \"text-align: right;\">21.6008</td><td style = \"text-align: right;\">4.28942</td><td style = \"text-align: right;\">1.61305</td><td style = \"text-align: right;\">407</td><td style = \"text-align: right;\">24</td><td style = \"text-align: left;\">average</td><td style = \"text-align: right;\">4</td><td style = \"text-align: right;\">35</td><td style = \"text-align: right;\">0.342869</td></tr></tbody></table></div>"
      ],
      "text/latex": [
       "\\begin{tabular}{r|cccccccccc}\n",
       "\t& tumorsize & co2 & pain & wound & mobility & ntumors & nmorphine & remission & lungcapacity & \\\\\n",
       "\t\\hline\n",
       "\t& Float64 & Float64 & Int64 & Int64 & Int64 & Int64 & Int64 & Int64 & Float64 & \\\\\n",
       "\t\\hline\n",
       "\t1 & 67.9812 & 1.53433 & 4 & 4 & 2 & 0 & 0 & 0 & 0.801088 & $\\dots$ \\\\\n",
       "\t2 & 64.7025 & 1.67613 & 2 & 3 & 2 & 0 & 0 & 0 & 0.326444 & $\\dots$ \\\\\n",
       "\t3 & 51.567 & 1.53345 & 6 & 3 & 2 & 0 & 0 & 0 & 0.565031 & $\\dots$ \\\\\n",
       "\t4 & 86.438 & 1.4533 & 3 & 3 & 2 & 0 & 0 & 0 & 0.848411 & $\\dots$ \\\\\n",
       "\t5 & 53.4002 & 1.56635 & 3 & 4 & 2 & 0 & 0 & 0 & 0.886491 & $\\dots$ \\\\\n",
       "\t6 & 51.6573 & 1.41787 & 4 & 5 & 2 & 0 & 0 & 0 & 0.701031 & $\\dots$ \\\\\n",
       "\t7 & 78.9171 & 1.70663 & 3 & 4 & 2 & 0 & 0 & 0 & 0.890854 & $\\dots$ \\\\\n",
       "\t8 & 69.8332 & 1.52873 & 3 & 3 & 3 & 0 & 0 & 0 & 0.66088 & $\\dots$ \\\\\n",
       "\t9 & 62.8526 & 1.54296 & 4 & 4 & 3 & 2 & 0 & 0 & 0.908871 & $\\dots$ \\\\\n",
       "\t10 & 71.7779 & 1.59306 & 5 & 4 & 3 & 0 & 0 & 0 & 0.959327 & $\\dots$ \\\\\n",
       "\t11 & 66.0256 & 1.60936 & 4 & 3 & 3 & 0 & 0 & 0 & 0.768215 & $\\dots$ \\\\\n",
       "\t12 & 57.5208 & 1.6344 & 4 & 3 & 3 & 0 & 0 & 0 & 0.488333 & $\\dots$ \\\\\n",
       "\t13 & 48.8394 & 1.53568 & 5 & 3 & 3 & 0 & 0 & 0 & 0.873921 & $\\dots$ \\\\\n",
       "\t14 & 67.2588 & 1.4896 & 3 & 3 & 2 & 0 & 0 & 0 & 0.707038 & $\\dots$ \\\\\n",
       "\t15 & 66.8071 & 1.52414 & 4 & 3 & 1 & 6 & 4 & 0 & 0.891166 & $\\dots$ \\\\\n",
       "\t16 & 73.8678 & 1.62979 & 3 & 4 & 1 & 0 & 0 & 0 & 0.604558 & $\\dots$ \\\\\n",
       "\t17 & 74.4426 & 1.74089 & 2 & 3 & 2 & 5 & 0 & 0 & 0.979005 & $\\dots$ \\\\\n",
       "\t18 & 79.7899 & 1.68875 & 6 & 4 & 2 & 0 & 0 & 0 & 0.58833 & $\\dots$ \\\\\n",
       "\t19 & 93.6763 & 1.71278 & 5 & 4 & 3 & 2 & 1 & 0 & 0.800185 & $\\dots$ \\\\\n",
       "\t20 & 58.2765 & 1.46615 & 7 & 3 & 2 & 0 & 0 & 0 & 0.900713 & $\\dots$ \\\\\n",
       "\t21 & 63.1962 & 1.51348 & 6 & 3 & 3 & 0 & 0 & 0 & 0.477993 & $\\dots$ \\\\\n",
       "\t22 & 57.5758 & 1.58642 & 3 & 3 & 1 & 2 & 0 & 0 & 0.616175 & $\\dots$ \\\\\n",
       "\t23 & 51.7235 & 1.49534 & 5 & 4 & 2 & 0 & 0 & 0 & 0.71411 & $\\dots$ \\\\\n",
       "\t24 & 63.6105 & 1.63116 & 1 & 3 & 2 & 0 & 0 & 0 & 0.667079 & $\\dots$ \\\\\n",
       "\t25 & 70.3155 & 1.59554 & 5 & 3 & 3 & 3 & 0 & 0 & 0.900029 & $\\dots$ \\\\\n",
       "\t26 & 78.9307 & 1.79946 & 3 & 4 & 2 & 2 & 0 & 0 & 0.670813 & $\\dots$ \\\\\n",
       "\t27 & 58.7022 & 1.53565 & 4 & 5 & 3 & 0 & 0 & 0 & 0.935679 & $\\dots$ \\\\\n",
       "\t28 & 66.4073 & 1.54085 & 4 & 3 & 3 & 0 & 0 & 0 & 0.298891 & $\\dots$ \\\\\n",
       "\t29 & 72.5715 & 1.59799 & 6 & 8 & 6 & 0 & 9 & 0 & 0.648699 & $\\dots$ \\\\\n",
       "\t30 & 52.9476 & 1.48219 & 5 & 7 & 5 & 1 & 3 & 0 & 0.70754 & $\\dots$ \\\\\n",
       "\t$\\dots$ & $\\dots$ & $\\dots$ & $\\dots$ & $\\dots$ & $\\dots$ & $\\dots$ & $\\dots$ & $\\dots$ & $\\dots$ &  \\\\\n",
       "\\end{tabular}\n"
      ],
      "text/plain": [
       "\u001b[1m8525×27 DataFrame\u001b[0m\n",
       "\u001b[1m  Row \u001b[0m│\u001b[1m tumorsize \u001b[0m\u001b[1m co2     \u001b[0m\u001b[1m pain  \u001b[0m\u001b[1m wound \u001b[0m\u001b[1m mobility \u001b[0m\u001b[1m ntumors \u001b[0m\u001b[1m nmorphine \u001b[0m\u001b[1m remiss\u001b[0m ⋯\n",
       "      │\u001b[90m Float64   \u001b[0m\u001b[90m Float64 \u001b[0m\u001b[90m Int64 \u001b[0m\u001b[90m Int64 \u001b[0m\u001b[90m Int64    \u001b[0m\u001b[90m Int64   \u001b[0m\u001b[90m Int64     \u001b[0m\u001b[90m Int64 \u001b[0m ⋯\n",
       "──────┼─────────────────────────────────────────────────────────────────────────\n",
       "    1 │   67.9812  1.53433      4      4         2        0          0         ⋯\n",
       "    2 │   64.7025  1.67613      2      3         2        0          0\n",
       "    3 │   51.567   1.53345      6      3         2        0          0\n",
       "    4 │   86.438   1.4533       3      3         2        0          0\n",
       "    5 │   53.4002  1.56635      3      4         2        0          0         ⋯\n",
       "    6 │   51.6573  1.41787      4      5         2        0          0\n",
       "    7 │   78.9171  1.70663      3      4         2        0          0\n",
       "    8 │   69.8332  1.52873      3      3         3        0          0\n",
       "    9 │   62.8526  1.54296      4      4         3        2          0         ⋯\n",
       "   10 │   71.7779  1.59306      5      4         3        0          0\n",
       "   11 │   66.0256  1.60936      4      3         3        0          0\n",
       "  ⋮   │     ⋮         ⋮       ⋮      ⋮       ⋮         ⋮         ⋮          ⋮  ⋱\n",
       " 8516 │   72.1299  1.54957      6      6         3        0          1\n",
       " 8517 │   80.6805  1.76155      5      6         3        0          1         ⋯\n",
       " 8518 │   74.1363  1.59926      5      6         3        7          5\n",
       " 8519 │   70.073   1.47649      6      5         3        4          2\n",
       " 8520 │   82.6019  1.77649      7      6         1        1          2\n",
       " 8521 │   71.2625  1.44567      4      7         4        4          0         ⋯\n",
       " 8522 │   79.9304  1.84224      4      6         2        2          5\n",
       " 8523 │   67.098   1.51245      5      6         4        0          4\n",
       " 8524 │   66.3834  1.61859      7      5         3        3          2\n",
       " 8525 │   65.9232  1.58751      4      5         3        1          2         ⋯\n",
       "\u001b[36m                                                20 columns and 8504 rows omitted\u001b[0m"
      ]
     },
     "execution_count": 4,
     "metadata": {},
     "output_type": "execute_result"
    }
   ],
   "source": [
    "# Loading dataset\n",
    "df = CSV.File(read(\"data/dataset.csv\")) |> DataFrame"
   ]
  },
  {
   "cell_type": "code",
   "execution_count": 5,
   "id": "e64efb9b",
   "metadata": {},
   "outputs": [
    {
     "data": {
      "text/plain": [
       "(8525, 27)"
      ]
     },
     "execution_count": 5,
     "metadata": {},
     "output_type": "execute_result"
    }
   ],
   "source": [
    "# Dimension\n",
    "size(df)"
   ]
  },
  {
   "cell_type": "code",
   "execution_count": 6,
   "id": "d84f6a32",
   "metadata": {},
   "outputs": [
    {
     "name": "stdout",
     "output_type": "stream",
     "text": [
      "\u001b[1m8525×27 DataFrame\u001b[0m\n",
      "\u001b[1m  Row \u001b[0m│\u001b[1m tumorsize \u001b[0m\u001b[1m co2     \u001b[0m\u001b[1m pain  \u001b[0m\u001b[1m wound \u001b[0m\u001b[1m mobility \u001b[0m\u001b[1m ntumors \u001b[0m\u001b[1m nmorphine \u001b[0m\u001b[1m remission \u001b[0m\u001b[1m lungcapacity \u001b[0m\u001b[1m Age     \u001b[0m\u001b[1m Married \u001b[0m\u001b[1m FamilyHx \u001b[0m\u001b[1m SmokingHx \u001b[0m\u001b[1m Sex     \u001b[0m\u001b[1m CancerStage \u001b[0m\u001b[1m LengthofStay \u001b[0m\u001b[1m WBC     \u001b[0m\u001b[1m RBC     \u001b[0m\u001b[1m BMI     \u001b[0m\u001b[1m IL6       \u001b[0m\u001b[1m CRP       \u001b[0m\u001b[1m DID   \u001b[0m\u001b[1m Experience \u001b[0m\u001b[1m School  \u001b[0m\u001b[1m Lawsuits \u001b[0m\u001b[1m HID   \u001b[0m\u001b[1m Medicaid \u001b[0m\n",
      "      │\u001b[90m Float64   \u001b[0m\u001b[90m Float64 \u001b[0m\u001b[90m Int64 \u001b[0m\u001b[90m Int64 \u001b[0m\u001b[90m Int64    \u001b[0m\u001b[90m Int64   \u001b[0m\u001b[90m Int64     \u001b[0m\u001b[90m Int64     \u001b[0m\u001b[90m Float64      \u001b[0m\u001b[90m Float64 \u001b[0m\u001b[90m Int64   \u001b[0m\u001b[90m String3  \u001b[0m\u001b[90m String7   \u001b[0m\u001b[90m String7 \u001b[0m\u001b[90m String3     \u001b[0m\u001b[90m Int64        \u001b[0m\u001b[90m Float64 \u001b[0m\u001b[90m Float64 \u001b[0m\u001b[90m Float64 \u001b[0m\u001b[90m Float64   \u001b[0m\u001b[90m Float64   \u001b[0m\u001b[90m Int64 \u001b[0m\u001b[90m Int64      \u001b[0m\u001b[90m String7 \u001b[0m\u001b[90m Int64    \u001b[0m\u001b[90m Int64 \u001b[0m\u001b[90m Float64  \u001b[0m\n",
      "──────┼────────────────────────────────────────────────────────────────────────────────────────────────────────────────────────────────────────────────────────────────────────────────────────────────────────────────────────────────────────────────────────────────────────────\n",
      "    1 │   67.9812  1.53433      4      4         2        0          0          0      0.801088  64.9682        0  no        former     male     II                      6  6087.65  4.86842  24.1442   3.69898    8.08642       1          25  average         3      1  0.605867\n",
      "    2 │   64.7025  1.67613      2      3         2        0          0          0      0.326444  53.9171        0  no        former     female   II                      6  6700.31  4.67905  29.4052   2.62748    0.803488      1          25  average         3      1  0.605867\n",
      "    3 │   51.567   1.53345      6      3         2        0          0          0      0.565031  53.3473        1  no        never      female   II                      5  6042.81  5.00586  29.4826  13.8962     4.03416       1          25  average         3      1  0.605867\n",
      "    4 │   86.438   1.4533       3      3         2        0          0          0      0.848411  41.368         0  no        former     male     I                       5  7162.7   5.26506  21.5573   3.00803    2.12586       1          25  average         3      1  0.605867\n",
      "    5 │   53.4002  1.56635      3      4         2        0          0          0      0.886491  46.8004        0  no        never      male     II                      6  6443.44  4.98426  29.8152   3.8907     1.34932       1          25  average         3      1  0.605867\n",
      "    6 │   51.6573  1.41787      4      5         2        0          0          0      0.701031  51.9294        1  no        never      male     I                       5  6800.55  5.19971  27.1025   1.41822    2.19469       1          25  average         3      1  0.605867\n",
      "    7 │   78.9171  1.70663      3      4         2        0          0          0      0.890854  53.8293        1  no        current    female   II                      4  6236.45  4.8699   21.1191   2.29322    8.60796       1          25  average         3      1  0.605867\n",
      "    8 │   69.8332  1.52873      3      3         3        0          0          0      0.66088   46.5622        0  no        former     male     II                      5  3997.7   4.64792  42.4754   4.57562    0.838388      1          25  average         3      1  0.605867\n",
      "    9 │   62.8526  1.54296      4      4         3        2          0          0      0.908871  54.3894        1  yes       former     male     II                      6  6652.8   4.82706  18.6851   8.0302     7.22613       1          25  average         3      1  0.605867\n",
      "   10 │   71.7779  1.59306      5      4         3        0          0          0      0.959327  50.5446        0  no        never      male     II                      7  5778.09  4.85051  39.4424   5.85566    4.08878       1          25  average         3      1  0.605867\n",
      "   11 │   66.0256  1.60936      4      3         3        0          0          0      0.768215  42.9193        0  no        current    female   I                       5  6182.05  5.19967  29.2478   4.89269    2.16514       1          25  average         3      1  0.605867\n",
      "  ⋮   │     ⋮         ⋮       ⋮      ⋮       ⋮         ⋮         ⋮          ⋮           ⋮           ⋮        ⋮        ⋮          ⋮         ⋮          ⋮            ⋮           ⋮        ⋮        ⋮         ⋮          ⋮        ⋮        ⋮          ⋮        ⋮        ⋮       ⋮\n",
      " 8516 │   72.1299  1.54957      6      6         3        0          1          1      0.81772   48.6778        1  no        never      male     II                      4  5970.95  5.17228  26.0899   3.96639    2.87995     407          24  average         4     35  0.342869\n",
      " 8517 │   80.6805  1.76155      5      6         3        0          1          1      0.665874  48.119         1  no        current    female   I                       5  6144.3   4.80481  41.2517   2.89367    3.19896     407          24  average         4     35  0.342869\n",
      " 8518 │   74.1363  1.59926      5      6         3        7          5          0      0.859104  64.1803        1  no        never      female   IV                      5  6953.91  5.09539  36.4225   7.19954    2.83987     407          24  average         4     35  0.342869\n",
      " 8519 │   70.073   1.47649      6      5         3        4          2          0      0.958656  54.6413        0  no        former     female   IV                      5  4348.73  4.66121  28.06     9.09707    0.57011     407          24  average         4     35  0.342869\n",
      " 8520 │   82.6019  1.77649      7      6         1        1          2          1      0.932638  44.9408        1  yes       current    male     I                       4  6952.75  4.82134  26.4427   3.57383    9.55253     407          24  average         4     35  0.342869\n",
      " 8521 │   71.2625  1.44567      4      7         4        4          0          1      0.839827  64.6356        1  no        never      male     IV                      7  5747.44  5.02613  29.1006   8.0511     2.15196     407          24  average         4     35  0.342869\n",
      " 8522 │   79.9304  1.84224      4      6         2        2          5          1      0.659009  45.0693        1  no        current    female   I                       3  4720.5   5.09406  20.5618   0.394488  12.7636      407          24  average         4     35  0.342869\n",
      " 8523 │   67.098   1.51245      5      6         4        0          4          1      0.797167  50.3167        0  no        former     female   II                      5  6327.59  5.19512  32.3221   0.451302   7.38761     407          24  average         4     35  0.342869\n",
      " 8524 │   66.3834  1.61859      7      5         3        3          2          1      0.969633  57.1199        0  no        never      female   IV                      8  3939.91  4.72485  24.3799   4.35991    3.07429     407          24  average         4     35  0.342869\n",
      " 8525 │   65.9232  1.58751      4      5         3        1          2          1      0.911669  56.0659        0  no        never      male     II                      6  6430.03  4.73406  21.6008   4.28942    1.61305     407          24  average         4     35  0.342869\n",
      "\u001b[36m                                                                                                                                                                                                                                                                  8504 rows omitted\u001b[0m"
     ]
    }
   ],
   "source": [
    "# Showing All Columns\n",
    "show(df, allcols = true)"
   ]
  },
  {
   "cell_type": "code",
   "execution_count": 7,
   "id": "7a2e0225",
   "metadata": {},
   "outputs": [
    {
     "data": {
      "text/plain": [
       "PyObject <class 'sklearn.preprocessing._label.LabelEncoder'>"
      ]
     },
     "execution_count": 7,
     "metadata": {},
     "output_type": "execute_result"
    }
   ],
   "source": [
    "@sk_import preprocessing: LabelEncoder"
   ]
  },
  {
   "cell_type": "code",
   "execution_count": 8,
   "id": "a0b53417",
   "metadata": {},
   "outputs": [
    {
     "data": {
      "text/html": [
       "<style>#sk-container-id-3 {color: black;background-color: white;}#sk-container-id-3 pre{padding: 0;}#sk-container-id-3 div.sk-toggleable {background-color: white;}#sk-container-id-3 label.sk-toggleable__label {cursor: pointer;display: block;width: 100%;margin-bottom: 0;padding: 0.3em;box-sizing: border-box;text-align: center;}#sk-container-id-3 label.sk-toggleable__label-arrow:before {content: \"▸\";float: left;margin-right: 0.25em;color: #696969;}#sk-container-id-3 label.sk-toggleable__label-arrow:hover:before {color: black;}#sk-container-id-3 div.sk-estimator:hover label.sk-toggleable__label-arrow:before {color: black;}#sk-container-id-3 div.sk-toggleable__content {max-height: 0;max-width: 0;overflow: hidden;text-align: left;background-color: #f0f8ff;}#sk-container-id-3 div.sk-toggleable__content pre {margin: 0.2em;color: black;border-radius: 0.25em;background-color: #f0f8ff;}#sk-container-id-3 input.sk-toggleable__control:checked~div.sk-toggleable__content {max-height: 200px;max-width: 100%;overflow: auto;}#sk-container-id-3 input.sk-toggleable__control:checked~label.sk-toggleable__label-arrow:before {content: \"▾\";}#sk-container-id-3 div.sk-estimator input.sk-toggleable__control:checked~label.sk-toggleable__label {background-color: #d4ebff;}#sk-container-id-3 div.sk-label input.sk-toggleable__control:checked~label.sk-toggleable__label {background-color: #d4ebff;}#sk-container-id-3 input.sk-hidden--visually {border: 0;clip: rect(1px 1px 1px 1px);clip: rect(1px, 1px, 1px, 1px);height: 1px;margin: -1px;overflow: hidden;padding: 0;position: absolute;width: 1px;}#sk-container-id-3 div.sk-estimator {font-family: monospace;background-color: #f0f8ff;border: 1px dotted black;border-radius: 0.25em;box-sizing: border-box;margin-bottom: 0.5em;}#sk-container-id-3 div.sk-estimator:hover {background-color: #d4ebff;}#sk-container-id-3 div.sk-parallel-item::after {content: \"\";width: 100%;border-bottom: 1px solid gray;flex-grow: 1;}#sk-container-id-3 div.sk-label:hover label.sk-toggleable__label {background-color: #d4ebff;}#sk-container-id-3 div.sk-serial::before {content: \"\";position: absolute;border-left: 1px solid gray;box-sizing: border-box;top: 0;bottom: 0;left: 50%;z-index: 0;}#sk-container-id-3 div.sk-serial {display: flex;flex-direction: column;align-items: center;background-color: white;padding-right: 0.2em;padding-left: 0.2em;position: relative;}#sk-container-id-3 div.sk-item {position: relative;z-index: 1;}#sk-container-id-3 div.sk-parallel {display: flex;align-items: stretch;justify-content: center;background-color: white;position: relative;}#sk-container-id-3 div.sk-item::before, #sk-container-id-3 div.sk-parallel-item::before {content: \"\";position: absolute;border-left: 1px solid gray;box-sizing: border-box;top: 0;bottom: 0;left: 50%;z-index: -1;}#sk-container-id-3 div.sk-parallel-item {display: flex;flex-direction: column;z-index: 1;position: relative;background-color: white;}#sk-container-id-3 div.sk-parallel-item:first-child::after {align-self: flex-end;width: 50%;}#sk-container-id-3 div.sk-parallel-item:last-child::after {align-self: flex-start;width: 50%;}#sk-container-id-3 div.sk-parallel-item:only-child::after {width: 0;}#sk-container-id-3 div.sk-dashed-wrapped {border: 1px dashed gray;margin: 0 0.4em 0.5em 0.4em;box-sizing: border-box;padding-bottom: 0.4em;background-color: white;}#sk-container-id-3 div.sk-label label {font-family: monospace;font-weight: bold;display: inline-block;line-height: 1.2em;}#sk-container-id-3 div.sk-label-container {text-align: center;}#sk-container-id-3 div.sk-container {/* jupyter's `normalize.less` sets `[hidden] { display: none; }` but bootstrap.min.css set `[hidden] { display: none !important; }` so we also need the `!important` here to be able to override the default hidden behavior on the sphinx rendered scikit-learn.org. See: https://github.com/scikit-learn/scikit-learn/issues/21755 */display: inline-block !important;position: relative;}#sk-container-id-3 div.sk-text-repr-fallback {display: none;}</style><div id=\"sk-container-id-3\" class=\"sk-top-container\"><div class=\"sk-text-repr-fallback\"><pre>LabelEncoder()</pre><b>In a Jupyter environment, please rerun this cell to show the HTML representation or trust the notebook. <br />On GitHub, the HTML representation is unable to render, please try loading this page with nbviewer.org.</b></div><div class=\"sk-container\" hidden><div class=\"sk-item\"><div class=\"sk-estimator sk-toggleable\"><input class=\"sk-toggleable__control sk-hidden--visually\" id=\"sk-estimator-id-3\" type=\"checkbox\" checked><label for=\"sk-estimator-id-3\" class=\"sk-toggleable__label sk-toggleable__label-arrow\">LabelEncoder</label><div class=\"sk-toggleable__content\"><pre>LabelEncoder()</pre></div></div></div></div></div>"
      ],
      "text/plain": [
       "PyObject LabelEncoder()"
      ]
     },
     "execution_count": 8,
     "metadata": {},
     "output_type": "execute_result"
    }
   ],
   "source": [
    "le = LabelEncoder()"
   ]
  },
  {
   "cell_type": "code",
   "execution_count": 10,
   "id": "862db212",
   "metadata": {},
   "outputs": [],
   "source": [
    "df[!, :FamilyHx] = le.fit_transform(df[!, :FamilyHx])\n",
    "df[!, :SmokingHx] = le.fit_transform(df[!, :SmokingHx])\n",
    "df[!, :Sex] = le.fit_transform(df[!, :Sex])\n",
    "df[!, :CancerStage] = le.fit_transform(df[!, :CancerStage])\n",
    "df[!, :School] = le.fit_transform(df[!, :School]);"
   ]
  },
  {
   "cell_type": "code",
   "execution_count": 11,
   "id": "f5052f42",
   "metadata": {},
   "outputs": [
    {
     "data": {
      "text/plain": [
       "8525×27 Matrix{Float64}:\n",
       " 67.9812  1.53433  4.0  4.0  2.0  0.0  0.0  …  25.0  0.0  3.0   1.0  0.605867\n",
       " 64.7025  1.67613  2.0  3.0  2.0  0.0  0.0     25.0  0.0  3.0   1.0  0.605867\n",
       " 51.567   1.53345  6.0  3.0  2.0  0.0  0.0     25.0  0.0  3.0   1.0  0.605867\n",
       " 86.438   1.4533   3.0  3.0  2.0  0.0  0.0     25.0  0.0  3.0   1.0  0.605867\n",
       " 53.4002  1.56635  3.0  4.0  2.0  0.0  0.0     25.0  0.0  3.0   1.0  0.605867\n",
       " 51.6573  1.41787  4.0  5.0  2.0  0.0  0.0  …  25.0  0.0  3.0   1.0  0.605867\n",
       " 78.9171  1.70663  3.0  4.0  2.0  0.0  0.0     25.0  0.0  3.0   1.0  0.605867\n",
       " 69.8332  1.52873  3.0  3.0  3.0  0.0  0.0     25.0  0.0  3.0   1.0  0.605867\n",
       " 62.8526  1.54296  4.0  4.0  3.0  2.0  0.0     25.0  0.0  3.0   1.0  0.605867\n",
       " 71.7779  1.59306  5.0  4.0  3.0  0.0  0.0     25.0  0.0  3.0   1.0  0.605867\n",
       " 66.0256  1.60936  4.0  3.0  3.0  0.0  0.0  …  25.0  0.0  3.0   1.0  0.605867\n",
       " 57.5208  1.6344   4.0  3.0  3.0  0.0  0.0     25.0  0.0  3.0   1.0  0.605867\n",
       " 48.8394  1.53568  5.0  3.0  3.0  0.0  0.0     25.0  0.0  3.0   1.0  0.605867\n",
       "  ⋮                               ⋮         ⋱                   ⋮    \n",
       " 76.764   1.51499  5.0  5.0  4.0  2.0  4.0     24.0  0.0  4.0  35.0  0.342869\n",
       " 70.9147  1.46798  6.0  5.0  3.0  0.0  0.0     24.0  0.0  4.0  35.0  0.342869\n",
       " 72.1299  1.54957  6.0  6.0  3.0  0.0  1.0  …  24.0  0.0  4.0  35.0  0.342869\n",
       " 80.6805  1.76155  5.0  6.0  3.0  0.0  1.0     24.0  0.0  4.0  35.0  0.342869\n",
       " 74.1363  1.59926  5.0  6.0  3.0  7.0  5.0     24.0  0.0  4.0  35.0  0.342869\n",
       " 70.073   1.47649  6.0  5.0  3.0  4.0  2.0     24.0  0.0  4.0  35.0  0.342869\n",
       " 82.6019  1.77649  7.0  6.0  1.0  1.0  2.0     24.0  0.0  4.0  35.0  0.342869\n",
       " 71.2625  1.44567  4.0  7.0  4.0  4.0  0.0  …  24.0  0.0  4.0  35.0  0.342869\n",
       " 79.9304  1.84224  4.0  6.0  2.0  2.0  5.0     24.0  0.0  4.0  35.0  0.342869\n",
       " 67.098   1.51245  5.0  6.0  4.0  0.0  4.0     24.0  0.0  4.0  35.0  0.342869\n",
       " 66.3834  1.61859  7.0  5.0  3.0  3.0  2.0     24.0  0.0  4.0  35.0  0.342869\n",
       " 65.9232  1.58751  4.0  5.0  3.0  1.0  2.0     24.0  0.0  4.0  35.0  0.342869"
      ]
     },
     "execution_count": 11,
     "metadata": {},
     "output_type": "execute_result"
    }
   ],
   "source": [
    "# Convert Df To Matrix\n",
    "X = Matrix(df)"
   ]
  },
  {
   "cell_type": "code",
   "execution_count": 13,
   "id": "f3dee142",
   "metadata": {},
   "outputs": [
    {
     "data": {
      "text/plain": [
       "8525×8525 Matrix{Float64}:\n",
       "    0.0      612.842     50.725  1075.49   …   473.169  2186.07    532.313\n",
       "  612.842      0.0      657.752   463.14       552.294  2790.32    489.015\n",
       "   50.725    657.752      0.0    1120.58       497.574  2142.09    562.426\n",
       " 1075.49     463.14    1120.58      0.0        929.533  3248.54    838.722\n",
       "  356.665    257.23     400.839   720.086      423.912  2536.53    408.036\n",
       "  713.244    101.213    757.857   364.022  …   624.504  2889.56    550.955\n",
       "  149.682    464.227    196.177   926.388      417.871  2332.45    451.344\n",
       " 2090.12    2702.66    2045.27   3165.11      2365.29    412.115  2466.32\n",
       "  565.32      49.5982   610.236   510.681      521.594  2743.33    464.432\n",
       "  310.332    922.325    265.828  1384.84       684.168  1882.88    769.033\n",
       "   97.3158   518.393    140.718   980.894  …   432.804  2278.91    477.216\n",
       " 1080.35    1692.78    1035.35   2155.36      1381.52   1142.92   1479.77\n",
       "  370.008    244.105    414.26    707.068      427.882  2549.8     408.898\n",
       "    ⋮                                      ⋱                      \n",
       "  484.568    965.044    462.569  1397.96       502.223  1885.76    604.554\n",
       " 1833.15    2434.24    1789.54   2891.14      2027.16    360.967  2129.62\n",
       "  424.196    835.518    414.4    1259.58   …   356.8    2031.07    459.211\n",
       "  412.285    689.639    421.245  1097.09       184.126  2204.52    286.92\n",
       "  957.452    480.286    998.45    458.91       626.619  3014.04    524.28\n",
       " 1786.08    2386.64    1742.5    2843.41      1978.91    408.91   2081.32\n",
       "  956.584    479.854    997.597   458.49       625.435  3012.92    523.22\n",
       "  530.905   1036.43     503.824  1473.04   …   580.462  1807.57    682.726\n",
       " 1426.79    2021.44    1384.11   2475.99      1607.21    780.916  1709.67\n",
       "  473.169    552.294    497.574   929.533        0.0    2387.72    103.446\n",
       " 2186.07    2790.32    2142.09   3248.54      2387.72      0.0    2490.12\n",
       "  532.313    489.015    562.426   838.722      103.446  2490.12      0.0"
      ]
     },
     "execution_count": 13,
     "metadata": {},
     "output_type": "execute_result"
    }
   ],
   "source": [
    "dist_type = Euclidean()\n",
    "dist = pairwise(dist_type, X', X')"
   ]
  },
  {
   "cell_type": "code",
   "execution_count": 14,
   "id": "696648de",
   "metadata": {},
   "outputs": [
    {
     "data": {
      "text/plain": [
       "calc_coef (generic function with 1 method)"
      ]
     },
     "execution_count": 14,
     "metadata": {},
     "output_type": "execute_result"
    }
   ],
   "source": [
    "function calc_coef(sil)\n",
    "    silMean = mean(sil)\n",
    "    println(\"Silhouette Coefficient Mean: $silMean\")\n",
    "end"
   ]
  },
  {
   "cell_type": "code",
   "execution_count": 15,
   "id": "14d425d0",
   "metadata": {},
   "outputs": [
    {
     "data": {
      "text/plain": [
       "eval_result (generic function with 1 method)"
      ]
     },
     "execution_count": 15,
     "metadata": {},
     "output_type": "execute_result"
    }
   ],
   "source": [
    "function eval_result(c)\n",
    "    num = size(c)\n",
    "    num = num[1]\n",
    "    max = findmax(c)\n",
    "    maxIndex = max[2]\n",
    "    maxNum = max[1]\n",
    "    min = findmin(c)\n",
    "    minIndex = min[2]\n",
    "    minNum = min[1]\n",
    "    println(\"Number of Cluters: $num\")\n",
    "    println(\"Max Group: $maxNum in cluster: $maxIndex\")\n",
    "    println(\"Min Group: $minNum in cluster: $minIndex\")\n",
    "end"
   ]
  },
  {
   "cell_type": "code",
   "execution_count": 16,
   "id": "c0ed5868",
   "metadata": {},
   "outputs": [
    {
     "data": {
      "text/plain": [
       "30"
      ]
     },
     "execution_count": 16,
     "metadata": {},
     "output_type": "execute_result"
    }
   ],
   "source": [
    "num_clusters = 30"
   ]
  },
  {
   "cell_type": "code",
   "execution_count": 17,
   "id": "dce48d19",
   "metadata": {},
   "outputs": [
    {
     "name": "stdout",
     "output_type": "stream",
     "text": [
      " 90.721441 seconds (5.43 M allocations: 370.548 MiB, 0.12% gc time, 5.48% compilation time)\n"
     ]
    },
    {
     "data": {
      "text/plain": [
       "KmeansResult{Matrix{Float64}, Float64, Int64}([292.99396426740606 1381.282499388747 … 408.6228518113047 1867.8918434534587; 837.5539396728395 785.8508645836065 … 980.2948320317206 1261.2993679950416; … ; 1970.0678570033538 3513.569517339522 … 1823.4425489577338 4010.9087445134255; 584.5476611471606 1040.7899653307265 … 721.8282536822836 1533.9084892815126], [15, 19, 15, 9, 24, 19, 14, 13, 3, 29  …  15, 14, 25, 10, 25, 29, 27, 23, 13, 24], [4.528097047156906e7, 3.2504115993286133e7, 3.398865468667984e7, 5.427848680729675e7, 2.7012951756149292e7, 6.275756248313141e7, 5.259395602750778e7, 1.5252283997528076e7, 5.556431937420273e7, 3.4241269875873566e7  …  6.801997680835724e7, 3.9685165656879425e7, 5.1479265360435486e7, 3.660283095737457e7, 5.042186506512451e7, 3.101385894356537e7, 3.0109067940063477e7, 3.0490583840690613e7, 7.573667323986816e7, 3.2871889115753174e7], [490, 254, 431, 75, 95, 453, 225, 412, 274, 152  …  42, 360, 454, 381, 368, 319, 281, 456, 469, 154], [490, 254, 431, 75, 95, 453, 225, 412, 274, 152  …  42, 360, 454, 381, 368, 319, 281, 456, 469, 154], 2.572726274746623e11, 86, true)"
      ]
     },
     "execution_count": 17,
     "metadata": {},
     "output_type": "execute_result"
    }
   ],
   "source": [
    "model = @time kmeans(dist, num_clusters)"
   ]
  },
  {
   "cell_type": "code",
   "execution_count": 18,
   "id": "291a9bec",
   "metadata": {},
   "outputs": [
    {
     "name": "stdout",
     "output_type": "stream",
     "text": [
      "Total Cost: 2.572726274746623e11\n",
      "\n"
     ]
    }
   ],
   "source": [
    "total_cost = model.totalcost\n",
    "println(\"Total Cost: $total_cost\\n\")"
   ]
  },
  {
   "cell_type": "code",
   "execution_count": 19,
   "id": "753d9486",
   "metadata": {},
   "outputs": [
    {
     "name": "stdout",
     "output_type": "stream",
     "text": [
      "Silhouette Coefficient Mean: 0.20342847771441258\n",
      "\n",
      "Number of Cluters: 30\n",
      "Max Group: 544 in cluster: 15\n",
      "Min Group: 11 in cluster: 16\n"
     ]
    }
   ],
   "source": [
    "calc_coef(silhouettes(model, dist))\n",
    "println()\n",
    "eval_result(counts(model))"
   ]
  },
  {
   "cell_type": "code",
   "execution_count": 20,
   "id": "2340af65",
   "metadata": {},
   "outputs": [
    {
     "data": {
      "text/plain": [
       "8525-element Vector{Float64}:\n",
       " 4.528097047156906e7\n",
       " 3.2504115993286133e7\n",
       " 3.398865468667984e7\n",
       " 5.427848680729675e7\n",
       " 2.7012951756149292e7\n",
       " 6.275756248313141e7\n",
       " 5.259395602750778e7\n",
       " 1.5252283997528076e7\n",
       " 5.556431937420273e7\n",
       " 3.4241269875873566e7\n",
       " 3.3287506660202026e7\n",
       " 4.290211324815369e7\n",
       " 2.7243011472644806e7\n",
       " ⋮\n",
       " 6.58045416425972e7\n",
       " 5.771346047229004e7\n",
       " 6.801997680835724e7\n",
       " 3.9685165656879425e7\n",
       " 5.1479265360435486e7\n",
       " 3.660283095737457e7\n",
       " 5.042186506512451e7\n",
       " 3.101385894356537e7\n",
       " 3.0109067940063477e7\n",
       " 3.0490583840690613e7\n",
       " 7.573667323986816e7\n",
       " 3.2871889115753174e7"
      ]
     },
     "execution_count": 20,
     "metadata": {},
     "output_type": "execute_result"
    }
   ],
   "source": [
    "costs = model.costs"
   ]
  },
  {
   "cell_type": "code",
   "execution_count": 21,
   "id": "71816aad",
   "metadata": {},
   "outputs": [
    {
     "name": "stdout",
     "output_type": "stream",
     "text": [
      "\n",
      "Found Outlier in the row: 502\n",
      "\n",
      "\u001b[1mDataFrameRow\u001b[0m\n",
      "\u001b[1m Row \u001b[0m│\u001b[1m tumorsize \u001b[0m\u001b[1m co2     \u001b[0m\u001b[1m pain  \u001b[0m\u001b[1m wound \u001b[0m\u001b[1m mobility \u001b[0m\u001b[1m ntumors \u001b[0m\u001b[1m nmorphine \u001b[0m\u001b[1m remission \u001b[0m\u001b[1m lungcapacity \u001b[0m\u001b[1m Age     \u001b[0m\n",
      "     │\u001b[90m Float64   \u001b[0m\u001b[90m Float64 \u001b[0m\u001b[90m Int64 \u001b[0m\u001b[90m Int64 \u001b[0m\u001b[90m Int64    \u001b[0m\u001b[90m Int64   \u001b[0m\u001b[90m Int64     \u001b[0m\u001b[90m Int64     \u001b[0m\u001b[90m Float64      \u001b[0m\u001b[90m Float64 \u001b[0m\n",
      "─────┼──────────────────────────────────────────────────────────────────────────────────────────────────\n",
      " 502 │   84.0779  1.79721      6      4         3        0          5          0      0.684788  40.7941\n",
      "\n",
      "Found Outlier in the row: 8141\n",
      "\n",
      "\u001b[1mDataFrameRow\u001b[0m\n",
      "\u001b[1m  Row \u001b[0m│\u001b[1m tumorsize \u001b[0m\u001b[1m co2     \u001b[0m\u001b[1m pain  \u001b[0m\u001b[1m wound \u001b[0m\u001b[1m mobility \u001b[0m\u001b[1m ntumors \u001b[0m\u001b[1m nmorphine \u001b[0m\u001b[1m remission \u001b[0m\u001b[1m lungcapacity \u001b[0m\u001b[1m Age     \u001b[0m\n",
      "      │\u001b[90m Float64   \u001b[0m\u001b[90m Float64 \u001b[0m\u001b[90m Int64 \u001b[0m\u001b[90m Int64 \u001b[0m\u001b[90m Int64    \u001b[0m\u001b[90m Int64   \u001b[0m\u001b[90m Int64     \u001b[0m\u001b[90m Int64     \u001b[0m\u001b[90m Float64      \u001b[0m\u001b[90m Float64 \u001b[0m\n",
      "──────┼──────────────────────────────────────────────────────────────────────────────────────────────────\n",
      " 8141 │   73.9747  1.42127      5      5         9        4          1          1      0.748055  59.9453\n",
      "\n",
      "Found Outlier in the row: 3542\n",
      "\n",
      "\u001b[1mDataFrameRow\u001b[0m\n",
      "\u001b[1m  Row \u001b[0m│\u001b[1m tumorsize \u001b[0m\u001b[1m co2     \u001b[0m\u001b[1m pain  \u001b[0m\u001b[1m wound \u001b[0m\u001b[1m mobility \u001b[0m\u001b[1m ntumors \u001b[0m\u001b[1m nmorphine \u001b[0m\u001b[1m remission \u001b[0m\u001b[1m lungcapacity \u001b[0m\u001b[1m Age     \u001b[0m\n",
      "      │\u001b[90m Float64   \u001b[0m\u001b[90m Float64 \u001b[0m\u001b[90m Int64 \u001b[0m\u001b[90m Int64 \u001b[0m\u001b[90m Int64    \u001b[0m\u001b[90m Int64   \u001b[0m\u001b[90m Int64     \u001b[0m\u001b[90m Int64     \u001b[0m\u001b[90m Float64      \u001b[0m\u001b[90m Float64 \u001b[0m\n",
      "──────┼──────────────────────────────────────────────────────────────────────────────────────────────────\n",
      " 3542 │   64.0045  1.58229      6      5         7        1          2          0       0.72204  43.1737\n",
      "\n",
      "Found Outlier in the row: 8307\n",
      "\n",
      "\u001b[1mDataFrameRow\u001b[0m\n",
      "\u001b[1m  Row \u001b[0m│\u001b[1m tumorsize \u001b[0m\u001b[1m co2     \u001b[0m\u001b[1m pain  \u001b[0m\u001b[1m wound \u001b[0m\u001b[1m mobility \u001b[0m\u001b[1m ntumors \u001b[0m\u001b[1m nmorphine \u001b[0m\u001b[1m remission \u001b[0m\u001b[1m lungcapacity \u001b[0m\u001b[1m Age     \u001b[0m\n",
      "      │\u001b[90m Float64   \u001b[0m\u001b[90m Float64 \u001b[0m\u001b[90m Int64 \u001b[0m\u001b[90m Int64 \u001b[0m\u001b[90m Int64    \u001b[0m\u001b[90m Int64   \u001b[0m\u001b[90m Int64     \u001b[0m\u001b[90m Int64     \u001b[0m\u001b[90m Float64      \u001b[0m\u001b[90m Float64 \u001b[0m\n",
      "──────┼──────────────────────────────────────────────────────────────────────────────────────────────────\n",
      " 8307 │   89.8992  1.69999      5      6         4        1          6          0      0.661196  49.7451\n",
      "\n",
      "Found Outlier in the row: 1483\n",
      "\n",
      "\u001b[1mDataFrameRow\u001b[0m\n",
      "\u001b[1m  Row \u001b[0m│\u001b[1m tumorsize \u001b[0m\u001b[1m co2     \u001b[0m\u001b[1m pain  \u001b[0m\u001b[1m wound \u001b[0m\u001b[1m mobility \u001b[0m\u001b[1m ntumors \u001b[0m\u001b[1m nmorphine \u001b[0m\u001b[1m remission \u001b[0m\u001b[1m lungcapacity \u001b[0m\u001b[1m Age     \u001b[0m\n",
      "      │\u001b[90m Float64   \u001b[0m\u001b[90m Float64 \u001b[0m\u001b[90m Int64 \u001b[0m\u001b[90m Int64 \u001b[0m\u001b[90m Int64    \u001b[0m\u001b[90m Int64   \u001b[0m\u001b[90m Int64     \u001b[0m\u001b[90m Int64     \u001b[0m\u001b[90m Float64      \u001b[0m\u001b[90m Float64 \u001b[0m\n",
      "──────┼──────────────────────────────────────────────────────────────────────────────────────────────────\n",
      " 1483 │   57.9752  1.58217      7      8         4        2          2          0       0.96129  56.7709\n"
     ]
    }
   ],
   "source": [
    "for i = 1:5\n",
    "    maxCost = findmax(costs)\n",
    "    index = maxCost[2]\n",
    "    println(\"\\nFound Outlier in the row: $index\\n\")\n",
    "    println(df[index, 1:10])\n",
    "    costs[index]= 0\n",
    "end"
   ]
  }
 ],
 "metadata": {
  "kernelspec": {
   "display_name": "Julia 1.10.4",
   "language": "julia",
   "name": "julia-1.10"
  },
  "language_info": {
   "file_extension": ".jl",
   "mimetype": "application/julia",
   "name": "julia",
   "version": "1.10.4"
  }
 },
 "nbformat": 4,
 "nbformat_minor": 5
}
